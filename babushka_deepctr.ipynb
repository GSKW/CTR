{
 "cells": [
  {
   "cell_type": "code",
   "execution_count": 256,
   "id": "f4888103-c170-4019-bf2f-4f580d488829",
   "metadata": {},
   "outputs": [],
   "source": [
    "import os\n",
    "import numpy as np\n",
    "import pandas as pd\n",
    "import seaborn as sns\n",
    "import matplotlib.pyplot as plt\n",
    "import random\n",
    "import gc\n",
    "\n",
    "plt.style.use('ggplot')\n",
    "import warnings as w\n",
    "w.filterwarnings(action='ignore')\n",
    "pd.set_option('display.max_columns',None)"
   ]
  },
  {
   "cell_type": "code",
   "execution_count": 257,
   "id": "642a07ad-f883-4d20-a094-749be00dcaf7",
   "metadata": {},
   "outputs": [],
   "source": [
    "from sklearn.preprocessing import LabelEncoder"
   ]
  },
  {
   "cell_type": "code",
   "execution_count": 258,
   "id": "6d3fc933-4b01-4398-9b29-1e5bf7f5e3df",
   "metadata": {},
   "outputs": [],
   "source": [
    "encoder = LabelEncoder()"
   ]
  },
  {
   "cell_type": "code",
   "execution_count": 259,
   "id": "b885602d-4545-4866-8885-c64beebc719e",
   "metadata": {},
   "outputs": [],
   "source": [
    "dtype={\n",
    "    'CampaignId':np.dtype(int),\n",
    "    'AdGroupId':np.dtype(int),\n",
    "    'KeywordId':np.dtype(int),\n",
    "    'Query':np.dtype(str),\n",
    "    'QueryMatchTypeWithVariant':np.dtype(str),\n",
    "    'Device':np.dtype(str),\n",
    "    'AveragePosition':np.dtype(float),\n",
    "    'Clicks':np.dtype(float),\n",
    "    'Impressions':np.dtype(float),\n",
    "}\n",
    "\n",
    "train = pd.read_csv('babushka-ctr/train.csv.zip', dtype=dtype, parse_dates=['Date'])\n",
    "test = pd.read_csv('babushka-ctr/test.csv.zip', dtype=dtype, parse_dates=['Date'])\n",
    "df = pd.concat([train, test])"
   ]
  },
  {
   "cell_type": "code",
   "execution_count": 260,
   "id": "7a544a07-dd3b-43cf-bc52-9b6ef03bfba7",
   "metadata": {},
   "outputs": [],
   "source": [
    "train['Date'] = train['Date'].astype(int)/10**9\n",
    "test['Date'] = test['Date'].astype(int)/10**9\n",
    "df['Date'] = df['Date'].astype(int)/10**9"
   ]
  },
  {
   "cell_type": "code",
   "execution_count": 261,
   "id": "ad5b7550-c0be-4234-81da-3282daaebde6",
   "metadata": {},
   "outputs": [
    {
     "data": {
      "text/html": [
       "<div>\n",
       "<style scoped>\n",
       "    .dataframe tbody tr th:only-of-type {\n",
       "        vertical-align: middle;\n",
       "    }\n",
       "\n",
       "    .dataframe tbody tr th {\n",
       "        vertical-align: top;\n",
       "    }\n",
       "\n",
       "    .dataframe thead th {\n",
       "        text-align: right;\n",
       "    }\n",
       "</style>\n",
       "<table border=\"1\" class=\"dataframe\">\n",
       "  <thead>\n",
       "    <tr style=\"text-align: right;\">\n",
       "      <th></th>\n",
       "      <th>CampaignId</th>\n",
       "      <th>AdGroupId</th>\n",
       "      <th>KeywordId</th>\n",
       "      <th>Query</th>\n",
       "      <th>QueryMatchTypeWithVariant</th>\n",
       "      <th>Device</th>\n",
       "      <th>Date</th>\n",
       "      <th>AveragePosition</th>\n",
       "      <th>Clicks</th>\n",
       "      <th>Impressions</th>\n",
       "    </tr>\n",
       "  </thead>\n",
       "  <tbody>\n",
       "    <tr>\n",
       "      <th>0</th>\n",
       "      <td>150950690</td>\n",
       "      <td>7953835370</td>\n",
       "      <td>116881275</td>\n",
       "      <td>may loan</td>\n",
       "      <td>NEAR_EXACT</td>\n",
       "      <td>HIGH_END_MOBILE</td>\n",
       "      <td>1.472170e+09</td>\n",
       "      <td>1.0</td>\n",
       "      <td>1.0</td>\n",
       "      <td>1.0</td>\n",
       "    </tr>\n",
       "    <tr>\n",
       "      <th>1</th>\n",
       "      <td>150950690</td>\n",
       "      <td>7953835370</td>\n",
       "      <td>116881275</td>\n",
       "      <td>my lloan</td>\n",
       "      <td>NEAR_EXACT</td>\n",
       "      <td>DESKTOP</td>\n",
       "      <td>1.473984e+09</td>\n",
       "      <td>1.0</td>\n",
       "      <td>1.0</td>\n",
       "      <td>1.0</td>\n",
       "    </tr>\n",
       "    <tr>\n",
       "      <th>2</th>\n",
       "      <td>150950690</td>\n",
       "      <td>7953835370</td>\n",
       "      <td>116881275</td>\n",
       "      <td>my loan</td>\n",
       "      <td>EXACT</td>\n",
       "      <td>DESKTOP</td>\n",
       "      <td>1.459814e+09</td>\n",
       "      <td>2.0</td>\n",
       "      <td>1.0</td>\n",
       "      <td>1.0</td>\n",
       "    </tr>\n",
       "    <tr>\n",
       "      <th>3</th>\n",
       "      <td>150950690</td>\n",
       "      <td>7953835370</td>\n",
       "      <td>116881275</td>\n",
       "      <td>my loan</td>\n",
       "      <td>EXACT</td>\n",
       "      <td>DESKTOP</td>\n",
       "      <td>1.460419e+09</td>\n",
       "      <td>2.0</td>\n",
       "      <td>1.0</td>\n",
       "      <td>1.0</td>\n",
       "    </tr>\n",
       "    <tr>\n",
       "      <th>4</th>\n",
       "      <td>150950690</td>\n",
       "      <td>7953835370</td>\n",
       "      <td>116881275</td>\n",
       "      <td>my loan</td>\n",
       "      <td>EXACT</td>\n",
       "      <td>DESKTOP</td>\n",
       "      <td>1.460938e+09</td>\n",
       "      <td>1.0</td>\n",
       "      <td>0.0</td>\n",
       "      <td>1.0</td>\n",
       "    </tr>\n",
       "    <tr>\n",
       "      <th>...</th>\n",
       "      <td>...</td>\n",
       "      <td>...</td>\n",
       "      <td>...</td>\n",
       "      <td>...</td>\n",
       "      <td>...</td>\n",
       "      <td>...</td>\n",
       "      <td>...</td>\n",
       "      <td>...</td>\n",
       "      <td>...</td>\n",
       "      <td>...</td>\n",
       "    </tr>\n",
       "    <tr>\n",
       "      <th>56217</th>\n",
       "      <td>150951650</td>\n",
       "      <td>7953852170</td>\n",
       "      <td>4761117171</td>\n",
       "      <td>finansiering mc</td>\n",
       "      <td>EXACT</td>\n",
       "      <td>TABLET</td>\n",
       "      <td>1.463443e+09</td>\n",
       "      <td>1.0</td>\n",
       "      <td>1.0</td>\n",
       "      <td>1.0</td>\n",
       "    </tr>\n",
       "    <tr>\n",
       "      <th>56218</th>\n",
       "      <td>150951650</td>\n",
       "      <td>7953852290</td>\n",
       "      <td>10765411427</td>\n",
       "      <td>snöskoterlån</td>\n",
       "      <td>EXACT</td>\n",
       "      <td>DESKTOP</td>\n",
       "      <td>1.456790e+09</td>\n",
       "      <td>2.0</td>\n",
       "      <td>0.0</td>\n",
       "      <td>1.0</td>\n",
       "    </tr>\n",
       "    <tr>\n",
       "      <th>56219</th>\n",
       "      <td>150951650</td>\n",
       "      <td>7953852290</td>\n",
       "      <td>10765411427</td>\n",
       "      <td>snöskoterlån</td>\n",
       "      <td>EXACT</td>\n",
       "      <td>DESKTOP</td>\n",
       "      <td>1.457914e+09</td>\n",
       "      <td>2.3</td>\n",
       "      <td>0.0</td>\n",
       "      <td>4.0</td>\n",
       "    </tr>\n",
       "    <tr>\n",
       "      <th>56220</th>\n",
       "      <td>150951650</td>\n",
       "      <td>7953852290</td>\n",
       "      <td>10765411427</td>\n",
       "      <td>snöskoterlån</td>\n",
       "      <td>EXACT</td>\n",
       "      <td>DESKTOP</td>\n",
       "      <td>1.458518e+09</td>\n",
       "      <td>2.5</td>\n",
       "      <td>0.0</td>\n",
       "      <td>2.0</td>\n",
       "    </tr>\n",
       "    <tr>\n",
       "      <th>56221</th>\n",
       "      <td>150951650</td>\n",
       "      <td>7953852290</td>\n",
       "      <td>10765411427</td>\n",
       "      <td>snöskoterlån</td>\n",
       "      <td>EXACT</td>\n",
       "      <td>TABLET</td>\n",
       "      <td>1.456790e+09</td>\n",
       "      <td>2.0</td>\n",
       "      <td>1.0</td>\n",
       "      <td>1.0</td>\n",
       "    </tr>\n",
       "  </tbody>\n",
       "</table>\n",
       "<p>56222 rows × 10 columns</p>\n",
       "</div>"
      ],
      "text/plain": [
       "       CampaignId   AdGroupId    KeywordId            Query   \n",
       "0       150950690  7953835370    116881275         may loan  \\\n",
       "1       150950690  7953835370    116881275         my lloan   \n",
       "2       150950690  7953835370    116881275          my loan   \n",
       "3       150950690  7953835370    116881275          my loan   \n",
       "4       150950690  7953835370    116881275          my loan   \n",
       "...           ...         ...          ...              ...   \n",
       "56217   150951650  7953852170   4761117171  finansiering mc   \n",
       "56218   150951650  7953852290  10765411427     snöskoterlån   \n",
       "56219   150951650  7953852290  10765411427     snöskoterlån   \n",
       "56220   150951650  7953852290  10765411427     snöskoterlån   \n",
       "56221   150951650  7953852290  10765411427     snöskoterlån   \n",
       "\n",
       "      QueryMatchTypeWithVariant           Device          Date   \n",
       "0                    NEAR_EXACT  HIGH_END_MOBILE  1.472170e+09  \\\n",
       "1                    NEAR_EXACT          DESKTOP  1.473984e+09   \n",
       "2                         EXACT          DESKTOP  1.459814e+09   \n",
       "3                         EXACT          DESKTOP  1.460419e+09   \n",
       "4                         EXACT          DESKTOP  1.460938e+09   \n",
       "...                         ...              ...           ...   \n",
       "56217                     EXACT           TABLET  1.463443e+09   \n",
       "56218                     EXACT          DESKTOP  1.456790e+09   \n",
       "56219                     EXACT          DESKTOP  1.457914e+09   \n",
       "56220                     EXACT          DESKTOP  1.458518e+09   \n",
       "56221                     EXACT           TABLET  1.456790e+09   \n",
       "\n",
       "       AveragePosition  Clicks  Impressions  \n",
       "0                  1.0     1.0          1.0  \n",
       "1                  1.0     1.0          1.0  \n",
       "2                  2.0     1.0          1.0  \n",
       "3                  2.0     1.0          1.0  \n",
       "4                  1.0     0.0          1.0  \n",
       "...                ...     ...          ...  \n",
       "56217              1.0     1.0          1.0  \n",
       "56218              2.0     0.0          1.0  \n",
       "56219              2.3     0.0          4.0  \n",
       "56220              2.5     0.0          2.0  \n",
       "56221              2.0     1.0          1.0  \n",
       "\n",
       "[56222 rows x 10 columns]"
      ]
     },
     "execution_count": 261,
     "metadata": {},
     "output_type": "execute_result"
    }
   ],
   "source": [
    "train"
   ]
  },
  {
   "cell_type": "code",
   "execution_count": 262,
   "id": "9b44ee82",
   "metadata": {},
   "outputs": [
    {
     "data": {
      "text/plain": [
       "CampaignId                       9\n",
       "AdGroupId                      120\n",
       "KeywordId                      469\n",
       "Query                         4784\n",
       "QueryMatchTypeWithVariant        5\n",
       "Device                           3\n",
       "Date                           413\n",
       "AveragePosition                100\n",
       "Clicks                          37\n",
       "Impressions                    420\n",
       "RowId                        87804\n",
       "dtype: int64"
      ]
     },
     "execution_count": 262,
     "metadata": {},
     "output_type": "execute_result"
    }
   ],
   "source": [
    "df.nunique()"
   ]
  },
  {
   "cell_type": "code",
   "execution_count": 263,
   "id": "c9dacab0",
   "metadata": {},
   "outputs": [
    {
     "data": {
      "text/plain": [
       "array([ 1.,  0.,  3.,  2.,  5.,  4.,  6., 13.,  7.,  8., 15.,  9., 22.,\n",
       "       18., 24., 12., 25., 17., 14., 11., 10., 19., 16., 21., 27., 20.,\n",
       "       28., 23., 32., 52., 47., 43., 33., 30., 36., 38., 29., nan])"
      ]
     },
     "execution_count": 263,
     "metadata": {},
     "output_type": "execute_result"
    }
   ],
   "source": [
    "df.Clicks.unique()"
   ]
  },
  {
   "cell_type": "code",
   "execution_count": 264,
   "id": "7c6eeb7a",
   "metadata": {},
   "outputs": [
    {
     "data": {
      "text/plain": [
       "array([1, 0])"
      ]
     },
     "execution_count": 264,
     "metadata": {},
     "output_type": "execute_result"
    }
   ],
   "source": [
    "train['Clicks'] = (train['Clicks'] > 0).astype(int)\n",
    "df['Clicks'] = (df['Clicks'] > 0).astype(int)\n",
    "df.Clicks.unique()"
   ]
  },
  {
   "cell_type": "code",
   "execution_count": 265,
   "id": "c7968b3e",
   "metadata": {},
   "outputs": [
    {
     "name": "stdout",
     "output_type": "stream",
     "text": [
      "<class 'pandas.core.frame.DataFrame'>\n",
      "RangeIndex: 56222 entries, 0 to 56221\n",
      "Data columns (total 10 columns):\n",
      " #   Column                     Non-Null Count  Dtype  \n",
      "---  ------                     --------------  -----  \n",
      " 0   CampaignId                 56222 non-null  int64  \n",
      " 1   AdGroupId                  56222 non-null  int64  \n",
      " 2   KeywordId                  56222 non-null  int64  \n",
      " 3   Query                      56222 non-null  object \n",
      " 4   QueryMatchTypeWithVariant  56222 non-null  object \n",
      " 5   Device                     56222 non-null  object \n",
      " 6   Date                       56222 non-null  float64\n",
      " 7   AveragePosition            56222 non-null  float64\n",
      " 8   Clicks                     56222 non-null  int64  \n",
      " 9   Impressions                56222 non-null  float64\n",
      "dtypes: float64(3), int64(4), object(3)\n",
      "memory usage: 4.3+ MB\n"
     ]
    }
   ],
   "source": [
    "train.info()"
   ]
  },
  {
   "cell_type": "code",
   "execution_count": 266,
   "id": "8a3536ec",
   "metadata": {},
   "outputs": [],
   "source": [
    "features_to_labelencode = ['CampaignId', 'AdGroupId', 'KeywordId', 'QueryMatchTypeWithVariant', 'Device']\n",
    "features_to_hash = ['Query']"
   ]
  },
  {
   "cell_type": "code",
   "execution_count": 267,
   "id": "35494800-472c-479e-8c68-08b890ff0f15",
   "metadata": {},
   "outputs": [
    {
     "name": "stdout",
     "output_type": "stream",
     "text": [
      "CampaignId\n",
      "AdGroupId\n",
      "KeywordId\n",
      "QueryMatchTypeWithVariant\n",
      "Device\n"
     ]
    }
   ],
   "source": [
    "# for idx, column in enumerate(train.columns):\n",
    "#     # print(f'{column:30}\\t{train[column].nunique()}')\n",
    "#     if idx >=3 and column != 'Clicks' and column != 'Impressions' and train[column].nunique() < 1000:\n",
    "for feat in features_to_labelencode:\n",
    "        print(feat)\n",
    "        encoder = LabelEncoder()\n",
    "        df[feat] = encoder.fit_transform(df[feat])\n",
    "        train[feat] = encoder.transform(train[feat])\n",
    "        test[feat] = encoder.transform(test[feat])"
   ]
  },
  {
   "cell_type": "code",
   "execution_count": 268,
   "id": "08cedcec-993e-49c0-9f5e-c3c551511aec",
   "metadata": {},
   "outputs": [
    {
     "name": "stdout",
     "output_type": "stream",
     "text": [
      "Query\n"
     ]
    }
   ],
   "source": [
    "from sklearn.feature_extraction.text import HashingVectorizer\n",
    "\n",
    "N_FEATURES = 16\n",
    "\n",
    "for feat in features_to_hash:\n",
    "    print(feat)\n",
    "    vectorizer = HashingVectorizer(n_features=N_FEATURES)\n",
    "    # vectorizer will produce N_FEATURES new columns\n",
    "    new_features = [f\"{feat}_{i}\" for i in range(N_FEATURES)]\n",
    "    df[new_features] = vectorizer.fit_transform(df[feat].values).todense()\n",
    "    train[new_features] = vectorizer.transform(train[feat].values).todense()\n",
    "    test[new_features] = vectorizer.transform(test[feat].values).todense()\n",
    "    # remove old feature\n",
    "    df.drop(columns=[feat], inplace=True)\n",
    "    train.drop(columns=[feat], inplace=True)\n",
    "    test.drop(columns=[feat], inplace=True)"
   ]
  },
  {
   "cell_type": "code",
   "execution_count": 269,
   "id": "04183c11-1068-479e-87ed-afed1ea639cc",
   "metadata": {},
   "outputs": [],
   "source": [
    "train.drop(columns=['Impressions'], inplace=True)\n",
    "test.drop(columns=['RowId'], inplace=True)\n",
    "df.drop(columns=['Impressions', 'RowId'], inplace=True)"
   ]
  },
  {
   "cell_type": "code",
   "execution_count": 270,
   "id": "013af8ba",
   "metadata": {},
   "outputs": [
    {
     "data": {
      "text/plain": [
       "CampaignId                     9\n",
       "AdGroupId                    120\n",
       "KeywordId                    465\n",
       "QueryMatchTypeWithVariant      5\n",
       "Device                         3\n",
       "Date                         363\n",
       "AveragePosition              100\n",
       "Clicks                         2\n",
       "Query_0                       42\n",
       "Query_1                       38\n",
       "Query_2                       43\n",
       "Query_3                       36\n",
       "Query_4                       45\n",
       "Query_5                       47\n",
       "Query_6                       33\n",
       "Query_7                       46\n",
       "Query_8                       36\n",
       "Query_9                       37\n",
       "Query_10                      46\n",
       "Query_11                      42\n",
       "Query_12                      38\n",
       "Query_13                      41\n",
       "Query_14                      35\n",
       "Query_15                      50\n",
       "dtype: int64"
      ]
     },
     "execution_count": 270,
     "metadata": {},
     "output_type": "execute_result"
    }
   ],
   "source": [
    "train.nunique()"
   ]
  },
  {
   "cell_type": "code",
   "execution_count": 271,
   "id": "f8c62a26-62f4-483f-9182-da868a34ad4c",
   "metadata": {},
   "outputs": [
    {
     "name": "stdout",
     "output_type": "stream",
     "text": [
      "<class 'pandas.core.frame.DataFrame'>\n",
      "RangeIndex: 56222 entries, 0 to 56221\n",
      "Data columns (total 24 columns):\n",
      " #   Column                     Non-Null Count  Dtype  \n",
      "---  ------                     --------------  -----  \n",
      " 0   CampaignId                 56222 non-null  int64  \n",
      " 1   AdGroupId                  56222 non-null  int64  \n",
      " 2   KeywordId                  56222 non-null  int64  \n",
      " 3   QueryMatchTypeWithVariant  56222 non-null  int64  \n",
      " 4   Device                     56222 non-null  int64  \n",
      " 5   Date                       56222 non-null  float64\n",
      " 6   AveragePosition            56222 non-null  float64\n",
      " 7   Clicks                     56222 non-null  int64  \n",
      " 8   Query_0                    56222 non-null  float64\n",
      " 9   Query_1                    56222 non-null  float64\n",
      " 10  Query_2                    56222 non-null  float64\n",
      " 11  Query_3                    56222 non-null  float64\n",
      " 12  Query_4                    56222 non-null  float64\n",
      " 13  Query_5                    56222 non-null  float64\n",
      " 14  Query_6                    56222 non-null  float64\n",
      " 15  Query_7                    56222 non-null  float64\n",
      " 16  Query_8                    56222 non-null  float64\n",
      " 17  Query_9                    56222 non-null  float64\n",
      " 18  Query_10                   56222 non-null  float64\n",
      " 19  Query_11                   56222 non-null  float64\n",
      " 20  Query_12                   56222 non-null  float64\n",
      " 21  Query_13                   56222 non-null  float64\n",
      " 22  Query_14                   56222 non-null  float64\n",
      " 23  Query_15                   56222 non-null  float64\n",
      "dtypes: float64(18), int64(6)\n",
      "memory usage: 10.3 MB\n"
     ]
    }
   ],
   "source": [
    "train.info()"
   ]
  },
  {
   "cell_type": "code",
   "execution_count": 272,
   "id": "6fdd1a61",
   "metadata": {},
   "outputs": [
    {
     "data": {
      "text/html": [
       "<div>\n",
       "<style scoped>\n",
       "    .dataframe tbody tr th:only-of-type {\n",
       "        vertical-align: middle;\n",
       "    }\n",
       "\n",
       "    .dataframe tbody tr th {\n",
       "        vertical-align: top;\n",
       "    }\n",
       "\n",
       "    .dataframe thead th {\n",
       "        text-align: right;\n",
       "    }\n",
       "</style>\n",
       "<table border=\"1\" class=\"dataframe\">\n",
       "  <thead>\n",
       "    <tr style=\"text-align: right;\">\n",
       "      <th></th>\n",
       "      <th>CampaignId</th>\n",
       "      <th>AdGroupId</th>\n",
       "      <th>KeywordId</th>\n",
       "      <th>QueryMatchTypeWithVariant</th>\n",
       "      <th>Device</th>\n",
       "      <th>Date</th>\n",
       "      <th>AveragePosition</th>\n",
       "      <th>Clicks</th>\n",
       "      <th>Query_0</th>\n",
       "      <th>Query_1</th>\n",
       "      <th>Query_2</th>\n",
       "      <th>Query_3</th>\n",
       "      <th>Query_4</th>\n",
       "      <th>Query_5</th>\n",
       "      <th>Query_6</th>\n",
       "      <th>Query_7</th>\n",
       "      <th>Query_8</th>\n",
       "      <th>Query_9</th>\n",
       "      <th>Query_10</th>\n",
       "      <th>Query_11</th>\n",
       "      <th>Query_12</th>\n",
       "      <th>Query_13</th>\n",
       "      <th>Query_14</th>\n",
       "      <th>Query_15</th>\n",
       "    </tr>\n",
       "  </thead>\n",
       "  <tbody>\n",
       "    <tr>\n",
       "      <th>0</th>\n",
       "      <td>0</td>\n",
       "      <td>0</td>\n",
       "      <td>6</td>\n",
       "      <td>2</td>\n",
       "      <td>1</td>\n",
       "      <td>1.472170e+09</td>\n",
       "      <td>1.0</td>\n",
       "      <td>1</td>\n",
       "      <td>0.0</td>\n",
       "      <td>0.0</td>\n",
       "      <td>-0.707107</td>\n",
       "      <td>0.0</td>\n",
       "      <td>0.0</td>\n",
       "      <td>0.0</td>\n",
       "      <td>0.0</td>\n",
       "      <td>0.0</td>\n",
       "      <td>0.0</td>\n",
       "      <td>0.0</td>\n",
       "      <td>0.000000</td>\n",
       "      <td>-0.707107</td>\n",
       "      <td>0.0</td>\n",
       "      <td>0.0</td>\n",
       "      <td>0.0</td>\n",
       "      <td>0.0</td>\n",
       "    </tr>\n",
       "    <tr>\n",
       "      <th>1</th>\n",
       "      <td>0</td>\n",
       "      <td>0</td>\n",
       "      <td>6</td>\n",
       "      <td>2</td>\n",
       "      <td>0</td>\n",
       "      <td>1.473984e+09</td>\n",
       "      <td>1.0</td>\n",
       "      <td>1</td>\n",
       "      <td>0.0</td>\n",
       "      <td>0.0</td>\n",
       "      <td>0.707107</td>\n",
       "      <td>0.0</td>\n",
       "      <td>0.0</td>\n",
       "      <td>0.0</td>\n",
       "      <td>0.0</td>\n",
       "      <td>0.0</td>\n",
       "      <td>0.0</td>\n",
       "      <td>0.0</td>\n",
       "      <td>0.707107</td>\n",
       "      <td>0.000000</td>\n",
       "      <td>0.0</td>\n",
       "      <td>0.0</td>\n",
       "      <td>0.0</td>\n",
       "      <td>0.0</td>\n",
       "    </tr>\n",
       "    <tr>\n",
       "      <th>2</th>\n",
       "      <td>0</td>\n",
       "      <td>0</td>\n",
       "      <td>6</td>\n",
       "      <td>0</td>\n",
       "      <td>0</td>\n",
       "      <td>1.459814e+09</td>\n",
       "      <td>2.0</td>\n",
       "      <td>1</td>\n",
       "      <td>0.0</td>\n",
       "      <td>0.0</td>\n",
       "      <td>-0.707107</td>\n",
       "      <td>0.0</td>\n",
       "      <td>0.0</td>\n",
       "      <td>0.0</td>\n",
       "      <td>0.0</td>\n",
       "      <td>0.0</td>\n",
       "      <td>0.0</td>\n",
       "      <td>0.0</td>\n",
       "      <td>0.707107</td>\n",
       "      <td>0.000000</td>\n",
       "      <td>0.0</td>\n",
       "      <td>0.0</td>\n",
       "      <td>0.0</td>\n",
       "      <td>0.0</td>\n",
       "    </tr>\n",
       "    <tr>\n",
       "      <th>3</th>\n",
       "      <td>0</td>\n",
       "      <td>0</td>\n",
       "      <td>6</td>\n",
       "      <td>0</td>\n",
       "      <td>0</td>\n",
       "      <td>1.460419e+09</td>\n",
       "      <td>2.0</td>\n",
       "      <td>1</td>\n",
       "      <td>0.0</td>\n",
       "      <td>0.0</td>\n",
       "      <td>-0.707107</td>\n",
       "      <td>0.0</td>\n",
       "      <td>0.0</td>\n",
       "      <td>0.0</td>\n",
       "      <td>0.0</td>\n",
       "      <td>0.0</td>\n",
       "      <td>0.0</td>\n",
       "      <td>0.0</td>\n",
       "      <td>0.707107</td>\n",
       "      <td>0.000000</td>\n",
       "      <td>0.0</td>\n",
       "      <td>0.0</td>\n",
       "      <td>0.0</td>\n",
       "      <td>0.0</td>\n",
       "    </tr>\n",
       "    <tr>\n",
       "      <th>4</th>\n",
       "      <td>0</td>\n",
       "      <td>0</td>\n",
       "      <td>6</td>\n",
       "      <td>0</td>\n",
       "      <td>0</td>\n",
       "      <td>1.460938e+09</td>\n",
       "      <td>1.0</td>\n",
       "      <td>0</td>\n",
       "      <td>0.0</td>\n",
       "      <td>0.0</td>\n",
       "      <td>-0.707107</td>\n",
       "      <td>0.0</td>\n",
       "      <td>0.0</td>\n",
       "      <td>0.0</td>\n",
       "      <td>0.0</td>\n",
       "      <td>0.0</td>\n",
       "      <td>0.0</td>\n",
       "      <td>0.0</td>\n",
       "      <td>0.707107</td>\n",
       "      <td>0.000000</td>\n",
       "      <td>0.0</td>\n",
       "      <td>0.0</td>\n",
       "      <td>0.0</td>\n",
       "      <td>0.0</td>\n",
       "    </tr>\n",
       "    <tr>\n",
       "      <th>...</th>\n",
       "      <td>...</td>\n",
       "      <td>...</td>\n",
       "      <td>...</td>\n",
       "      <td>...</td>\n",
       "      <td>...</td>\n",
       "      <td>...</td>\n",
       "      <td>...</td>\n",
       "      <td>...</td>\n",
       "      <td>...</td>\n",
       "      <td>...</td>\n",
       "      <td>...</td>\n",
       "      <td>...</td>\n",
       "      <td>...</td>\n",
       "      <td>...</td>\n",
       "      <td>...</td>\n",
       "      <td>...</td>\n",
       "      <td>...</td>\n",
       "      <td>...</td>\n",
       "      <td>...</td>\n",
       "      <td>...</td>\n",
       "      <td>...</td>\n",
       "      <td>...</td>\n",
       "      <td>...</td>\n",
       "      <td>...</td>\n",
       "    </tr>\n",
       "    <tr>\n",
       "      <th>56217</th>\n",
       "      <td>8</td>\n",
       "      <td>85</td>\n",
       "      <td>117</td>\n",
       "      <td>0</td>\n",
       "      <td>2</td>\n",
       "      <td>1.463443e+09</td>\n",
       "      <td>1.0</td>\n",
       "      <td>1</td>\n",
       "      <td>0.0</td>\n",
       "      <td>0.0</td>\n",
       "      <td>0.000000</td>\n",
       "      <td>0.0</td>\n",
       "      <td>0.0</td>\n",
       "      <td>0.0</td>\n",
       "      <td>0.0</td>\n",
       "      <td>0.0</td>\n",
       "      <td>0.0</td>\n",
       "      <td>0.0</td>\n",
       "      <td>0.707107</td>\n",
       "      <td>0.707107</td>\n",
       "      <td>0.0</td>\n",
       "      <td>0.0</td>\n",
       "      <td>0.0</td>\n",
       "      <td>0.0</td>\n",
       "    </tr>\n",
       "    <tr>\n",
       "      <th>56218</th>\n",
       "      <td>8</td>\n",
       "      <td>86</td>\n",
       "      <td>148</td>\n",
       "      <td>0</td>\n",
       "      <td>0</td>\n",
       "      <td>1.456790e+09</td>\n",
       "      <td>2.0</td>\n",
       "      <td>0</td>\n",
       "      <td>0.0</td>\n",
       "      <td>0.0</td>\n",
       "      <td>1.000000</td>\n",
       "      <td>0.0</td>\n",
       "      <td>0.0</td>\n",
       "      <td>0.0</td>\n",
       "      <td>0.0</td>\n",
       "      <td>0.0</td>\n",
       "      <td>0.0</td>\n",
       "      <td>0.0</td>\n",
       "      <td>0.000000</td>\n",
       "      <td>0.000000</td>\n",
       "      <td>0.0</td>\n",
       "      <td>0.0</td>\n",
       "      <td>0.0</td>\n",
       "      <td>0.0</td>\n",
       "    </tr>\n",
       "    <tr>\n",
       "      <th>56219</th>\n",
       "      <td>8</td>\n",
       "      <td>86</td>\n",
       "      <td>148</td>\n",
       "      <td>0</td>\n",
       "      <td>0</td>\n",
       "      <td>1.457914e+09</td>\n",
       "      <td>2.3</td>\n",
       "      <td>0</td>\n",
       "      <td>0.0</td>\n",
       "      <td>0.0</td>\n",
       "      <td>1.000000</td>\n",
       "      <td>0.0</td>\n",
       "      <td>0.0</td>\n",
       "      <td>0.0</td>\n",
       "      <td>0.0</td>\n",
       "      <td>0.0</td>\n",
       "      <td>0.0</td>\n",
       "      <td>0.0</td>\n",
       "      <td>0.000000</td>\n",
       "      <td>0.000000</td>\n",
       "      <td>0.0</td>\n",
       "      <td>0.0</td>\n",
       "      <td>0.0</td>\n",
       "      <td>0.0</td>\n",
       "    </tr>\n",
       "    <tr>\n",
       "      <th>56220</th>\n",
       "      <td>8</td>\n",
       "      <td>86</td>\n",
       "      <td>148</td>\n",
       "      <td>0</td>\n",
       "      <td>0</td>\n",
       "      <td>1.458518e+09</td>\n",
       "      <td>2.5</td>\n",
       "      <td>0</td>\n",
       "      <td>0.0</td>\n",
       "      <td>0.0</td>\n",
       "      <td>1.000000</td>\n",
       "      <td>0.0</td>\n",
       "      <td>0.0</td>\n",
       "      <td>0.0</td>\n",
       "      <td>0.0</td>\n",
       "      <td>0.0</td>\n",
       "      <td>0.0</td>\n",
       "      <td>0.0</td>\n",
       "      <td>0.000000</td>\n",
       "      <td>0.000000</td>\n",
       "      <td>0.0</td>\n",
       "      <td>0.0</td>\n",
       "      <td>0.0</td>\n",
       "      <td>0.0</td>\n",
       "    </tr>\n",
       "    <tr>\n",
       "      <th>56221</th>\n",
       "      <td>8</td>\n",
       "      <td>86</td>\n",
       "      <td>148</td>\n",
       "      <td>0</td>\n",
       "      <td>2</td>\n",
       "      <td>1.456790e+09</td>\n",
       "      <td>2.0</td>\n",
       "      <td>1</td>\n",
       "      <td>0.0</td>\n",
       "      <td>0.0</td>\n",
       "      <td>1.000000</td>\n",
       "      <td>0.0</td>\n",
       "      <td>0.0</td>\n",
       "      <td>0.0</td>\n",
       "      <td>0.0</td>\n",
       "      <td>0.0</td>\n",
       "      <td>0.0</td>\n",
       "      <td>0.0</td>\n",
       "      <td>0.000000</td>\n",
       "      <td>0.000000</td>\n",
       "      <td>0.0</td>\n",
       "      <td>0.0</td>\n",
       "      <td>0.0</td>\n",
       "      <td>0.0</td>\n",
       "    </tr>\n",
       "  </tbody>\n",
       "</table>\n",
       "<p>56222 rows × 24 columns</p>\n",
       "</div>"
      ],
      "text/plain": [
       "       CampaignId  AdGroupId  KeywordId  QueryMatchTypeWithVariant  Device   \n",
       "0               0          0          6                          2       1  \\\n",
       "1               0          0          6                          2       0   \n",
       "2               0          0          6                          0       0   \n",
       "3               0          0          6                          0       0   \n",
       "4               0          0          6                          0       0   \n",
       "...           ...        ...        ...                        ...     ...   \n",
       "56217           8         85        117                          0       2   \n",
       "56218           8         86        148                          0       0   \n",
       "56219           8         86        148                          0       0   \n",
       "56220           8         86        148                          0       0   \n",
       "56221           8         86        148                          0       2   \n",
       "\n",
       "               Date  AveragePosition  Clicks  Query_0  Query_1   Query_2   \n",
       "0      1.472170e+09              1.0       1      0.0      0.0 -0.707107  \\\n",
       "1      1.473984e+09              1.0       1      0.0      0.0  0.707107   \n",
       "2      1.459814e+09              2.0       1      0.0      0.0 -0.707107   \n",
       "3      1.460419e+09              2.0       1      0.0      0.0 -0.707107   \n",
       "4      1.460938e+09              1.0       0      0.0      0.0 -0.707107   \n",
       "...             ...              ...     ...      ...      ...       ...   \n",
       "56217  1.463443e+09              1.0       1      0.0      0.0  0.000000   \n",
       "56218  1.456790e+09              2.0       0      0.0      0.0  1.000000   \n",
       "56219  1.457914e+09              2.3       0      0.0      0.0  1.000000   \n",
       "56220  1.458518e+09              2.5       0      0.0      0.0  1.000000   \n",
       "56221  1.456790e+09              2.0       1      0.0      0.0  1.000000   \n",
       "\n",
       "       Query_3  Query_4  Query_5  Query_6  Query_7  Query_8  Query_9   \n",
       "0          0.0      0.0      0.0      0.0      0.0      0.0      0.0  \\\n",
       "1          0.0      0.0      0.0      0.0      0.0      0.0      0.0   \n",
       "2          0.0      0.0      0.0      0.0      0.0      0.0      0.0   \n",
       "3          0.0      0.0      0.0      0.0      0.0      0.0      0.0   \n",
       "4          0.0      0.0      0.0      0.0      0.0      0.0      0.0   \n",
       "...        ...      ...      ...      ...      ...      ...      ...   \n",
       "56217      0.0      0.0      0.0      0.0      0.0      0.0      0.0   \n",
       "56218      0.0      0.0      0.0      0.0      0.0      0.0      0.0   \n",
       "56219      0.0      0.0      0.0      0.0      0.0      0.0      0.0   \n",
       "56220      0.0      0.0      0.0      0.0      0.0      0.0      0.0   \n",
       "56221      0.0      0.0      0.0      0.0      0.0      0.0      0.0   \n",
       "\n",
       "       Query_10  Query_11  Query_12  Query_13  Query_14  Query_15  \n",
       "0      0.000000 -0.707107       0.0       0.0       0.0       0.0  \n",
       "1      0.707107  0.000000       0.0       0.0       0.0       0.0  \n",
       "2      0.707107  0.000000       0.0       0.0       0.0       0.0  \n",
       "3      0.707107  0.000000       0.0       0.0       0.0       0.0  \n",
       "4      0.707107  0.000000       0.0       0.0       0.0       0.0  \n",
       "...         ...       ...       ...       ...       ...       ...  \n",
       "56217  0.707107  0.707107       0.0       0.0       0.0       0.0  \n",
       "56218  0.000000  0.000000       0.0       0.0       0.0       0.0  \n",
       "56219  0.000000  0.000000       0.0       0.0       0.0       0.0  \n",
       "56220  0.000000  0.000000       0.0       0.0       0.0       0.0  \n",
       "56221  0.000000  0.000000       0.0       0.0       0.0       0.0  \n",
       "\n",
       "[56222 rows x 24 columns]"
      ]
     },
     "execution_count": 272,
     "metadata": {},
     "output_type": "execute_result"
    }
   ],
   "source": [
    "train"
   ]
  },
  {
   "cell_type": "code",
   "execution_count": 273,
   "id": "75198d95-16dd-4742-8739-cf44a2d68e96",
   "metadata": {},
   "outputs": [],
   "source": [
    "# encoder = LabelEncoder()\n",
    "# encoder.fit(df['AveragePosition'])\n",
    "\n",
    "# train['AveragePosition'] = encoder.transform(train['AveragePosition'])\n",
    "# test['AveragePosition'] = encoder.transform(test['AveragePosition'])"
   ]
  },
  {
   "cell_type": "code",
   "execution_count": 274,
   "id": "e437d6a8-c427-4f1a-99f9-3de333e415b3",
   "metadata": {},
   "outputs": [],
   "source": [
    "# sparse_features = train.iloc[::,:-1].columns.values.tolist()\n",
    "sparse_features = ['CampaignId', 'AdGroupId', 'KeywordId', 'QueryMatchTypeWithVariant', 'Device']\n",
    "dense_features = [f'Query_{i}' for i in range(N_FEATURES)] + ['Date', 'AveragePosition']\n",
    "target = ['Clicks']"
   ]
  },
  {
   "cell_type": "code",
   "execution_count": 275,
   "id": "df3f985c-e381-491a-85ec-657f7cf0883d",
   "metadata": {},
   "outputs": [
    {
     "data": {
      "text/plain": [
       "['CampaignId', 'AdGroupId', 'KeywordId', 'QueryMatchTypeWithVariant', 'Device']"
      ]
     },
     "execution_count": 275,
     "metadata": {},
     "output_type": "execute_result"
    }
   ],
   "source": [
    "sparse_features"
   ]
  },
  {
   "cell_type": "code",
   "execution_count": 276,
   "id": "b9d77164",
   "metadata": {},
   "outputs": [
    {
     "data": {
      "text/plain": [
       "['Query_0',\n",
       " 'Query_1',\n",
       " 'Query_2',\n",
       " 'Query_3',\n",
       " 'Query_4',\n",
       " 'Query_5',\n",
       " 'Query_6',\n",
       " 'Query_7',\n",
       " 'Query_8',\n",
       " 'Query_9',\n",
       " 'Query_10',\n",
       " 'Query_11',\n",
       " 'Query_12',\n",
       " 'Query_13',\n",
       " 'Query_14',\n",
       " 'Query_15',\n",
       " 'Date',\n",
       " 'AveragePosition']"
      ]
     },
     "execution_count": 276,
     "metadata": {},
     "output_type": "execute_result"
    }
   ],
   "source": [
    "dense_features"
   ]
  },
  {
   "cell_type": "code",
   "execution_count": 277,
   "id": "d3579575-1c9f-4cab-bee5-cd7c3efe20d8",
   "metadata": {},
   "outputs": [],
   "source": [
    "import torch\n",
    "from deepctr_torch.inputs import SparseFeat, DenseFeat, get_feature_names\n",
    "from deepctr_torch.models import *"
   ]
  },
  {
   "cell_type": "code",
   "execution_count": 278,
   "id": "72335481-831d-429c-ba30-f65ce0f2beb5",
   "metadata": {},
   "outputs": [],
   "source": [
    "fixlen_feature_columns = [SparseFeat(feat, df[feat].nunique()) for feat in sparse_features]\n",
    "fixlen_feature_columns.extend([DenseFeat(feat, 1) for feat in dense_features])"
   ]
  },
  {
   "cell_type": "code",
   "execution_count": 279,
   "id": "99380c19-e218-45e7-9044-ee48e90ef7eb",
   "metadata": {},
   "outputs": [
    {
     "name": "stdout",
     "output_type": "stream",
     "text": [
      "CampaignId                    \t3\n",
      "AdGroupId                     \t13\n",
      "KeywordId                     \t82\n",
      "QueryMatchTypeWithVariant     \t5\n",
      "Device                        \t3\n",
      "Date                          \t50\n",
      "AveragePosition               \t60\n",
      "Query_0                       \t22\n",
      "Query_1                       \t14\n",
      "Query_2                       \t21\n",
      "Query_3                       \t15\n",
      "Query_4                       \t19\n",
      "Query_5                       \t22\n",
      "Query_6                       \t15\n",
      "Query_7                       \t17\n",
      "Query_8                       \t13\n",
      "Query_9                       \t14\n",
      "Query_10                      \t21\n",
      "Query_11                      \t19\n",
      "Query_12                      \t17\n",
      "Query_13                      \t14\n",
      "Query_14                      \t15\n",
      "Query_15                      \t21\n"
     ]
    }
   ],
   "source": [
    "for idx, column in enumerate(test.columns):\n",
    "    print(f'{column:30}\\t{test[column].nunique()}')"
   ]
  },
  {
   "cell_type": "code",
   "execution_count": 280,
   "id": "e94205cd-bdbb-4fe5-8380-e00176278974",
   "metadata": {},
   "outputs": [
    {
     "data": {
      "text/plain": [
       "[SparseFeat(name='CampaignId', vocabulary_size=9, embedding_dim=4, use_hash=False, dtype='int32', embedding_name='CampaignId', group_name='default_group'),\n",
       " SparseFeat(name='AdGroupId', vocabulary_size=120, embedding_dim=4, use_hash=False, dtype='int32', embedding_name='AdGroupId', group_name='default_group'),\n",
       " SparseFeat(name='KeywordId', vocabulary_size=469, embedding_dim=4, use_hash=False, dtype='int32', embedding_name='KeywordId', group_name='default_group'),\n",
       " SparseFeat(name='QueryMatchTypeWithVariant', vocabulary_size=5, embedding_dim=4, use_hash=False, dtype='int32', embedding_name='QueryMatchTypeWithVariant', group_name='default_group'),\n",
       " SparseFeat(name='Device', vocabulary_size=3, embedding_dim=4, use_hash=False, dtype='int32', embedding_name='Device', group_name='default_group'),\n",
       " DenseFeat(name='Query_0', dimension=1, dtype='float32'),\n",
       " DenseFeat(name='Query_1', dimension=1, dtype='float32'),\n",
       " DenseFeat(name='Query_2', dimension=1, dtype='float32'),\n",
       " DenseFeat(name='Query_3', dimension=1, dtype='float32'),\n",
       " DenseFeat(name='Query_4', dimension=1, dtype='float32'),\n",
       " DenseFeat(name='Query_5', dimension=1, dtype='float32'),\n",
       " DenseFeat(name='Query_6', dimension=1, dtype='float32'),\n",
       " DenseFeat(name='Query_7', dimension=1, dtype='float32'),\n",
       " DenseFeat(name='Query_8', dimension=1, dtype='float32'),\n",
       " DenseFeat(name='Query_9', dimension=1, dtype='float32'),\n",
       " DenseFeat(name='Query_10', dimension=1, dtype='float32'),\n",
       " DenseFeat(name='Query_11', dimension=1, dtype='float32'),\n",
       " DenseFeat(name='Query_12', dimension=1, dtype='float32'),\n",
       " DenseFeat(name='Query_13', dimension=1, dtype='float32'),\n",
       " DenseFeat(name='Query_14', dimension=1, dtype='float32'),\n",
       " DenseFeat(name='Query_15', dimension=1, dtype='float32'),\n",
       " DenseFeat(name='Date', dimension=1, dtype='float32'),\n",
       " DenseFeat(name='AveragePosition', dimension=1, dtype='float32')]"
      ]
     },
     "execution_count": 280,
     "metadata": {},
     "output_type": "execute_result"
    }
   ],
   "source": [
    "fixlen_feature_columns"
   ]
  },
  {
   "cell_type": "code",
   "execution_count": 281,
   "id": "a4c5cfb3-540a-4d29-bea8-54ddf41aad8d",
   "metadata": {},
   "outputs": [],
   "source": [
    "dnn_feature_columns = fixlen_feature_columns\n",
    "linear_feature_columns = fixlen_feature_columns"
   ]
  },
  {
   "cell_type": "code",
   "execution_count": 282,
   "id": "a82294d0-e8c5-4bd2-a845-83e052cf0d82",
   "metadata": {},
   "outputs": [
    {
     "data": {
      "text/plain": [
       "[SparseFeat(name='CampaignId', vocabulary_size=9, embedding_dim=4, use_hash=False, dtype='int32', embedding_name='CampaignId', group_name='default_group'),\n",
       " SparseFeat(name='AdGroupId', vocabulary_size=120, embedding_dim=4, use_hash=False, dtype='int32', embedding_name='AdGroupId', group_name='default_group'),\n",
       " SparseFeat(name='KeywordId', vocabulary_size=469, embedding_dim=4, use_hash=False, dtype='int32', embedding_name='KeywordId', group_name='default_group'),\n",
       " SparseFeat(name='QueryMatchTypeWithVariant', vocabulary_size=5, embedding_dim=4, use_hash=False, dtype='int32', embedding_name='QueryMatchTypeWithVariant', group_name='default_group'),\n",
       " SparseFeat(name='Device', vocabulary_size=3, embedding_dim=4, use_hash=False, dtype='int32', embedding_name='Device', group_name='default_group'),\n",
       " DenseFeat(name='Query_0', dimension=1, dtype='float32'),\n",
       " DenseFeat(name='Query_1', dimension=1, dtype='float32'),\n",
       " DenseFeat(name='Query_2', dimension=1, dtype='float32'),\n",
       " DenseFeat(name='Query_3', dimension=1, dtype='float32'),\n",
       " DenseFeat(name='Query_4', dimension=1, dtype='float32'),\n",
       " DenseFeat(name='Query_5', dimension=1, dtype='float32'),\n",
       " DenseFeat(name='Query_6', dimension=1, dtype='float32'),\n",
       " DenseFeat(name='Query_7', dimension=1, dtype='float32'),\n",
       " DenseFeat(name='Query_8', dimension=1, dtype='float32'),\n",
       " DenseFeat(name='Query_9', dimension=1, dtype='float32'),\n",
       " DenseFeat(name='Query_10', dimension=1, dtype='float32'),\n",
       " DenseFeat(name='Query_11', dimension=1, dtype='float32'),\n",
       " DenseFeat(name='Query_12', dimension=1, dtype='float32'),\n",
       " DenseFeat(name='Query_13', dimension=1, dtype='float32'),\n",
       " DenseFeat(name='Query_14', dimension=1, dtype='float32'),\n",
       " DenseFeat(name='Query_15', dimension=1, dtype='float32'),\n",
       " DenseFeat(name='Date', dimension=1, dtype='float32'),\n",
       " DenseFeat(name='AveragePosition', dimension=1, dtype='float32')]"
      ]
     },
     "execution_count": 282,
     "metadata": {},
     "output_type": "execute_result"
    }
   ],
   "source": [
    "linear_feature_columns"
   ]
  },
  {
   "cell_type": "code",
   "execution_count": 283,
   "id": "ef147f7d-a981-466d-999f-5503193ce462",
   "metadata": {},
   "outputs": [
    {
     "data": {
      "text/plain": [
       "['CampaignId',\n",
       " 'AdGroupId',\n",
       " 'KeywordId',\n",
       " 'QueryMatchTypeWithVariant',\n",
       " 'Device',\n",
       " 'Query_0',\n",
       " 'Query_1',\n",
       " 'Query_2',\n",
       " 'Query_3',\n",
       " 'Query_4',\n",
       " 'Query_5',\n",
       " 'Query_6',\n",
       " 'Query_7',\n",
       " 'Query_8',\n",
       " 'Query_9',\n",
       " 'Query_10',\n",
       " 'Query_11',\n",
       " 'Query_12',\n",
       " 'Query_13',\n",
       " 'Query_14',\n",
       " 'Query_15',\n",
       " 'Date',\n",
       " 'AveragePosition']"
      ]
     },
     "execution_count": 283,
     "metadata": {},
     "output_type": "execute_result"
    }
   ],
   "source": [
    "feature_names = get_feature_names(linear_feature_columns + dnn_feature_columns)\n",
    "feature_names"
   ]
  },
  {
   "cell_type": "code",
   "execution_count": 284,
   "id": "e7ea586d-139e-4186-b049-889e623447ba",
   "metadata": {},
   "outputs": [],
   "source": [
    "train_model_input = {name: train[name].values for name in feature_names}\n",
    "test_model_input = {name: test[name].values for name in feature_names}"
   ]
  },
  {
   "cell_type": "code",
   "execution_count": 285,
   "id": "1052adff-8311-44c5-894f-e8485a000731",
   "metadata": {},
   "outputs": [],
   "source": [
    "device = ('cuda' if torch.cuda.is_available() else 'cpu')"
   ]
  },
  {
   "cell_type": "code",
   "execution_count": 286,
   "id": "7fd61e1a-80d5-4622-bba6-c51bacbc1c5e",
   "metadata": {},
   "outputs": [
    {
     "data": {
      "text/plain": [
       "DeepFM(\n",
       "  (embedding_dict): ModuleDict(\n",
       "    (CampaignId): Embedding(9, 4)\n",
       "    (AdGroupId): Embedding(120, 4)\n",
       "    (KeywordId): Embedding(469, 4)\n",
       "    (QueryMatchTypeWithVariant): Embedding(5, 4)\n",
       "    (Device): Embedding(3, 4)\n",
       "  )\n",
       "  (linear_model): Linear(\n",
       "    (embedding_dict): ModuleDict(\n",
       "      (CampaignId): Embedding(9, 1)\n",
       "      (AdGroupId): Embedding(120, 1)\n",
       "      (KeywordId): Embedding(469, 1)\n",
       "      (QueryMatchTypeWithVariant): Embedding(5, 1)\n",
       "      (Device): Embedding(3, 1)\n",
       "    )\n",
       "  )\n",
       "  (out): PredictionLayer()\n",
       "  (fm): FM()\n",
       "  (dnn): DNN(\n",
       "    (dropout): Dropout(p=0.7, inplace=False)\n",
       "    (linears): ModuleList(\n",
       "      (0): Linear(in_features=38, out_features=256, bias=True)\n",
       "      (1): Linear(in_features=256, out_features=128, bias=True)\n",
       "    )\n",
       "    (activation_layers): ModuleList(\n",
       "      (0-1): 2 x ReLU(inplace=True)\n",
       "    )\n",
       "  )\n",
       "  (dnn_linear): Linear(in_features=128, out_features=1, bias=False)\n",
       ")"
      ]
     },
     "execution_count": 286,
     "metadata": {},
     "output_type": "execute_result"
    }
   ],
   "source": [
    "model = DeepFM(\n",
    "    linear_feature_columns, dnn_feature_columns, task='binary', device=device, dnn_dropout=0.7\n",
    ")\n",
    "model"
   ]
  },
  {
   "cell_type": "code",
   "execution_count": 287,
   "id": "2e28f58e-75b3-4298-a7db-ffe8558222fa",
   "metadata": {},
   "outputs": [],
   "source": [
    "model.compile(\n",
    "    optimizer = 'adam', loss = 'binary_crossentropy', metrics = ['binary_crossentropy', 'auc']\n",
    ")"
   ]
  },
  {
   "cell_type": "code",
   "execution_count": 288,
   "id": "29bb4b81-115e-406c-b9c9-b06c2c1fac17",
   "metadata": {},
   "outputs": [
    {
     "name": "stdout",
     "output_type": "stream",
     "text": [
      "cpu\n",
      "Train on 44977 samples, validate on 11245 samples, 44 steps per epoch\n"
     ]
    },
    {
     "name": "stderr",
     "output_type": "stream",
     "text": [
      "44it [00:00, 49.60it/s]\n"
     ]
    },
    {
     "name": "stdout",
     "output_type": "stream",
     "text": [
      "Epoch 1/5\n",
      "0s - loss:  49.5742 - binary_crossentropy:  17.8798 - auc:  0.5000 - val_binary_crossentropy:  27.3252 - val_auc:  0.5000\n"
     ]
    },
    {
     "name": "stderr",
     "output_type": "stream",
     "text": [
      "44it [00:00, 52.20it/s]\n"
     ]
    },
    {
     "name": "stdout",
     "output_type": "stream",
     "text": [
      "Epoch 2/5\n",
      "0s - loss:  54.9391 - binary_crossentropy:  19.8245 - auc:  0.4979 - val_binary_crossentropy:  27.3252 - val_auc:  0.5000\n"
     ]
    },
    {
     "name": "stderr",
     "output_type": "stream",
     "text": [
      "44it [00:00, 51.59it/s]\n"
     ]
    },
    {
     "name": "stdout",
     "output_type": "stream",
     "text": [
      "Epoch 3/5\n",
      "0s - loss:  67.3500 - binary_crossentropy:  24.2740 - auc:  0.5000 - val_binary_crossentropy:  27.3252 - val_auc:  0.5000\n"
     ]
    },
    {
     "name": "stderr",
     "output_type": "stream",
     "text": [
      "44it [00:00, 61.18it/s]\n"
     ]
    },
    {
     "name": "stdout",
     "output_type": "stream",
     "text": [
      "Epoch 4/5\n",
      "0s - loss:  67.3500 - binary_crossentropy:  24.2748 - auc:  0.5000 - val_binary_crossentropy:  27.3252 - val_auc:  0.5000\n"
     ]
    },
    {
     "name": "stderr",
     "output_type": "stream",
     "text": [
      "44it [00:00, 101.64it/s]\n"
     ]
    },
    {
     "name": "stdout",
     "output_type": "stream",
     "text": [
      "Epoch 5/5\n",
      "0s - loss:  67.3500 - binary_crossentropy:  24.2766 - auc:  0.5000 - val_binary_crossentropy:  27.3252 - val_auc:  0.5000\n",
      "CPU times: user 40.7 s, sys: 0 ns, total: 40.7 s\n",
      "Wall time: 4.11 s\n"
     ]
    }
   ],
   "source": [
    "%%time\n",
    "history = model.fit(\n",
    "    train_model_input,\n",
    "    train[target].astype(int).values,\n",
    "    batch_size=1024,\n",
    "    epochs=5,\n",
    "    verbose=1,\n",
    "    validation_split=0.2\n",
    ")"
   ]
  },
  {
   "cell_type": "code",
   "execution_count": null,
   "id": "37483420-bb24-4f71-a596-7c54e0d40c6e",
   "metadata": {},
   "outputs": [],
   "source": []
  }
 ],
 "metadata": {
  "kernelspec": {
   "display_name": "Python 3 (ipykernel)",
   "language": "python",
   "name": "python3"
  },
  "language_info": {
   "codemirror_mode": {
    "name": "ipython",
    "version": 3
   },
   "file_extension": ".py",
   "mimetype": "text/x-python",
   "name": "python",
   "nbconvert_exporter": "python",
   "pygments_lexer": "ipython3",
   "version": "3.10.12"
  }
 },
 "nbformat": 4,
 "nbformat_minor": 5
}
